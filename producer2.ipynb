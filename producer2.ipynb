{
  "nbformat": 4,
  "nbformat_minor": 0,
  "metadata": {
    "colab": {
      "provenance": [],
      "authorship_tag": "ABX9TyOW8xxUcrxgk9r5NRBbH+o7",
      "include_colab_link": true
    },
    "kernelspec": {
      "name": "python3",
      "display_name": "Python 3"
    },
    "language_info": {
      "name": "python"
    }
  },
  "cells": [
    {
      "cell_type": "markdown",
      "metadata": {
        "id": "view-in-github",
        "colab_type": "text"
      },
      "source": [
        "<a href=\"https://colab.research.google.com/github/kittipat7/DADS6005_Project/blob/main/producer2.ipynb\" target=\"_parent\"><img src=\"https://colab.research.google.com/assets/colab-badge.svg\" alt=\"Open In Colab\"/></a>"
      ]
    },
    {
      "cell_type": "code",
      "execution_count": null,
      "metadata": {
        "id": "APx7SQ_CzTpd"
      },
      "outputs": [],
      "source": [
        "#coindesk\n",
        "%%capture\n",
        "!pip install confluent_kafka\n",
        "#!pip install -U coindesk"
      ]
    },
    {
      "cell_type": "code",
      "source": [
        "from confluent_kafka import Producer\n",
        "import requests\n",
        "import json\n",
        "import time\n",
        "\n",
        "# Set up the Kafka producer\n",
        "p = Producer({'bootstrap.servers': 'ec2-13-229-46-113.ap-southeast-1.compute.amazonaws.com:9092'})\n",
        "\n",
        "# Set the CryptoCompare API endpoint and any necessary headers or parameters\n",
        "api_endpoint = \"https://api.coindesk.com/v1/bpi/currentprice.json\"\n",
        "\n",
        "# Retrieve data from the CryptoCompare API in a loop\n",
        "while True:\n",
        "    # Make a request to the CryptoCompare API\n",
        "    response = requests.get(api_endpoint)\n",
        "    data = response.json()\n",
        "\n",
        "    # Convert the data to a string and produce it to Kafka\n",
        "    data_str = json.dumps(data)\n",
        "    print(data_str)\n",
        "    p.produce('btc1', data_str.encode('utf-8'))\n",
        "    p.flush()\n",
        "    time.sleep(60)"
      ],
      "metadata": {
        "id": "18F7cYwJmJcY"
      },
      "execution_count": null,
      "outputs": []
    }
  ]
}